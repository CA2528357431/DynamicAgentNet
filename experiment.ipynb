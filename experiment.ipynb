{
 "cells": [
  {
   "cell_type": "code",
   "id": "initial_id",
   "metadata": {
    "collapsed": true,
    "ExecuteTime": {
     "end_time": "2025-03-14T17:05:32.265174Z",
     "start_time": "2025-03-14T17:05:32.253163Z"
    }
   },
   "source": [
    "import os\n",
    "from dotenv import load_dotenv\n",
    "\n",
    "load_dotenv()\n",
    "openai_key = os.getenv(\"openai_key\")"
   ],
   "outputs": [],
   "execution_count": 1
  },
  {
   "metadata": {
    "ExecuteTime": {
     "end_time": "2025-03-14T17:05:34.278896Z",
     "start_time": "2025-03-14T17:05:32.265696Z"
    }
   },
   "cell_type": "code",
   "source": [
    "from langchain_openai import ChatOpenAI\n",
    "\n",
    "llm = ChatOpenAI(model=\"gpt-4o-mini\", openai_api_key=openai_key)"
   ],
   "id": "e1639e4dc1b759ed",
   "outputs": [],
   "execution_count": 2
  },
  {
   "metadata": {
    "ExecuteTime": {
     "end_time": "2025-03-14T17:05:34.285872Z",
     "start_time": "2025-03-14T17:05:34.279416Z"
    }
   },
   "cell_type": "code",
   "source": [
    "from Tasks.Tasks import tasks_agent_can_complete, tasks_agent_cannot_complete\n",
    "from Tools.Tools import tools"
   ],
   "id": "76199038aa4534ad",
   "outputs": [],
   "execution_count": 3
  },
  {
   "metadata": {
    "ExecuteTime": {
     "end_time": "2025-03-14T17:26:58.942873Z",
     "start_time": "2025-03-14T17:26:58.938854Z"
    }
   },
   "cell_type": "code",
   "source": [
    "def statistic(tp,tn,fp,fn):\n",
    "    accuracy = (tp+tn)/(tp+tn+fp+fn)\n",
    "    precision = tp/(tp+fp)\n",
    "    recall = tp/(tp+fn)\n",
    "    f1 = 2*precision*recall/(precision+recall)\n",
    "    return (accuracy,precision,recall,f1)"
   ],
   "id": "8d178086e10bcb32",
   "outputs": [],
   "execution_count": 14
  },
  {
   "metadata": {
    "ExecuteTime": {
     "end_time": "2025-03-14T17:05:34.291873Z",
     "start_time": "2025-03-14T17:05:34.286873Z"
    }
   },
   "cell_type": "code",
   "source": [
    "def test(agent, tasks_can, tasks_cannot):\n",
    "    tp = 0\n",
    "    tn = 0\n",
    "    fp = 0\n",
    "    fn = 0\n",
    "    for i in range(50):\n",
    "        x = tasks_can[i]\n",
    "        res = agent(x)\n",
    "        if res:\n",
    "            tp+=1\n",
    "        else:\n",
    "            fn+=1\n",
    "        print(f\"Task {i+1}/100: output is {res}, ground truth is {True}\")\n",
    "    for i in range(50):\n",
    "        x = tasks_cannot[i]\n",
    "        res = agent(x)\n",
    "        if res:\n",
    "            fp+=1\n",
    "        else:\n",
    "            tn+=1\n",
    "        print(f\"Task {i+50+1}/100: output is {res}, ground truth is {False}\")\n",
    "        \n",
    "    return (tp,tn,fp,fn)"
   ],
   "id": "db2fe9a50c1cfde",
   "outputs": [],
   "execution_count": 4
  },
  {
   "metadata": {
    "ExecuteTime": {
     "end_time": "2025-03-14T17:12:24.830579Z",
     "start_time": "2025-03-14T17:05:34.293108Z"
    }
   },
   "cell_type": "code",
   "source": [
    "from AgentNet.AgentNet_dynamic import AgentNet_dynamic\n",
    "\n",
    "executor_num = 3\n",
    "agent_dynamic = AgentNet_dynamic(llm, executor_num, tools)\n",
    "agent_dynamic_res = test(agent_dynamic, tasks_agent_can_complete, tasks_agent_cannot_complete)"
   ],
   "id": "f7563c76204e4056",
   "outputs": [
    {
     "name": "stdout",
     "output_type": "stream",
     "text": [
      "Task 1/100: output is True, ground truth is True\n",
      "Task 2/100: output is True, ground truth is True\n",
      "Task 3/100: output is True, ground truth is True\n",
      "Task 4/100: output is False, ground truth is True\n",
      "Task 5/100: output is True, ground truth is True\n",
      "Task 6/100: output is False, ground truth is True\n",
      "Task 7/100: output is True, ground truth is True\n",
      "Task 8/100: output is False, ground truth is True\n",
      "Task 9/100: output is True, ground truth is True\n",
      "Task 10/100: output is True, ground truth is True\n",
      "Task 11/100: output is True, ground truth is True\n",
      "Task 12/100: output is True, ground truth is True\n",
      "Task 13/100: output is True, ground truth is True\n",
      "Task 14/100: output is True, ground truth is True\n",
      "Task 15/100: output is True, ground truth is True\n",
      "Task 16/100: output is True, ground truth is True\n",
      "Task 17/100: output is True, ground truth is True\n",
      "Task 18/100: output is False, ground truth is True\n",
      "Task 19/100: output is True, ground truth is True\n",
      "Task 20/100: output is True, ground truth is True\n",
      "Task 21/100: output is True, ground truth is True\n",
      "Task 22/100: output is True, ground truth is True\n",
      "Task 23/100: output is True, ground truth is True\n",
      "Task 24/100: output is True, ground truth is True\n",
      "Task 25/100: output is True, ground truth is True\n",
      "Task 26/100: output is False, ground truth is True\n",
      "Task 27/100: output is False, ground truth is True\n",
      "Task 28/100: output is True, ground truth is True\n",
      "Task 29/100: output is False, ground truth is True\n",
      "Task 30/100: output is True, ground truth is True\n",
      "Task 31/100: output is True, ground truth is True\n",
      "Task 32/100: output is True, ground truth is True\n",
      "Task 33/100: output is False, ground truth is True\n",
      "Task 34/100: output is True, ground truth is True\n",
      "Task 35/100: output is False, ground truth is True\n",
      "Task 36/100: output is True, ground truth is True\n",
      "Task 37/100: output is True, ground truth is True\n",
      "Task 38/100: output is True, ground truth is True\n",
      "Task 39/100: output is True, ground truth is True\n",
      "Task 40/100: output is True, ground truth is True\n",
      "Task 41/100: output is True, ground truth is True\n",
      "Task 42/100: output is True, ground truth is True\n",
      "Task 43/100: output is True, ground truth is True\n",
      "Task 44/100: output is True, ground truth is True\n",
      "Task 45/100: output is False, ground truth is True\n",
      "Task 46/100: output is True, ground truth is True\n",
      "Task 47/100: output is True, ground truth is True\n",
      "Task 48/100: output is True, ground truth is True\n",
      "Task 49/100: output is True, ground truth is True\n",
      "Task 50/100: output is False, ground truth is True\n",
      "Task 51/100: output is False, ground truth is False\n",
      "Task 52/100: output is False, ground truth is False\n",
      "Task 53/100: output is False, ground truth is False\n",
      "Task 54/100: output is False, ground truth is False\n",
      "Task 55/100: output is False, ground truth is False\n",
      "Task 56/100: output is False, ground truth is False\n",
      "Task 57/100: output is False, ground truth is False\n",
      "Task 58/100: output is False, ground truth is False\n",
      "Task 59/100: output is False, ground truth is False\n",
      "Task 60/100: output is True, ground truth is False\n",
      "Task 61/100: output is True, ground truth is False\n",
      "Task 62/100: output is False, ground truth is False\n",
      "Task 63/100: output is False, ground truth is False\n",
      "Task 64/100: output is False, ground truth is False\n",
      "Task 65/100: output is True, ground truth is False\n",
      "Task 66/100: output is False, ground truth is False\n",
      "Task 67/100: output is False, ground truth is False\n",
      "Task 68/100: output is True, ground truth is False\n",
      "Task 69/100: output is False, ground truth is False\n",
      "Task 70/100: output is False, ground truth is False\n",
      "Task 71/100: output is False, ground truth is False\n",
      "Task 72/100: output is False, ground truth is False\n",
      "Task 73/100: output is False, ground truth is False\n",
      "Task 74/100: output is False, ground truth is False\n",
      "Task 75/100: output is False, ground truth is False\n",
      "Task 76/100: output is True, ground truth is False\n",
      "Task 77/100: output is False, ground truth is False\n",
      "Task 78/100: output is False, ground truth is False\n",
      "Task 79/100: output is False, ground truth is False\n",
      "Task 80/100: output is False, ground truth is False\n",
      "Task 81/100: output is False, ground truth is False\n",
      "Task 82/100: output is True, ground truth is False\n",
      "Task 83/100: output is False, ground truth is False\n",
      "Task 84/100: output is True, ground truth is False\n",
      "Task 85/100: output is False, ground truth is False\n",
      "Task 86/100: output is False, ground truth is False\n",
      "Task 87/100: output is False, ground truth is False\n",
      "Task 88/100: output is False, ground truth is False\n",
      "Task 89/100: output is False, ground truth is False\n",
      "Task 90/100: output is False, ground truth is False\n",
      "Task 91/100: output is False, ground truth is False\n",
      "Task 92/100: output is False, ground truth is False\n",
      "Task 93/100: output is False, ground truth is False\n",
      "Task 94/100: output is True, ground truth is False\n",
      "Task 95/100: output is False, ground truth is False\n",
      "Task 96/100: output is True, ground truth is False\n",
      "Task 97/100: output is True, ground truth is False\n",
      "Task 98/100: output is True, ground truth is False\n",
      "Task 99/100: output is True, ground truth is False\n",
      "Task 100/100: output is False, ground truth is False\n"
     ]
    }
   ],
   "execution_count": 5
  },
  {
   "metadata": {},
   "cell_type": "markdown",
   "source": "",
   "id": "a04c9b4f35863d3c"
  },
  {
   "metadata": {
    "ExecuteTime": {
     "end_time": "2025-03-14T17:12:24.836316Z",
     "start_time": "2025-03-14T17:12:24.831622Z"
    }
   },
   "cell_type": "code",
   "source": "print(agent_dynamic_res)",
   "id": "963186a0eb13d0c0",
   "outputs": [
    {
     "name": "stdout",
     "output_type": "stream",
     "text": [
      "(39, 38, 12, 11)\n"
     ]
    }
   ],
   "execution_count": 6
  },
  {
   "metadata": {
    "ExecuteTime": {
     "end_time": "2025-03-14T17:27:01.784805Z",
     "start_time": "2025-03-14T17:27:01.780801Z"
    }
   },
   "cell_type": "code",
   "source": "print(statistic(*agent_dynamic_res))",
   "id": "1f544cfcd5d2ee4d",
   "outputs": [
    {
     "name": "stdout",
     "output_type": "stream",
     "text": [
      "(0.77, 0.7647058823529411, 0.78, 0.7722772277227723)\n"
     ]
    }
   ],
   "execution_count": 15
  },
  {
   "metadata": {
    "ExecuteTime": {
     "end_time": "2025-03-14T17:18:47.459183Z",
     "start_time": "2025-03-14T17:12:24.837324Z"
    }
   },
   "cell_type": "code",
   "source": [
    "from AgentNet.AgentNet_fixed import AgentNet_fixed\n",
    "\n",
    "agent_fixed = AgentNet_fixed(llm, tools)\n",
    "agent_fixed_res = test(agent_fixed, tasks_agent_can_complete, tasks_agent_cannot_complete)"
   ],
   "id": "8be45f4d66b6c859",
   "outputs": [
    {
     "name": "stdout",
     "output_type": "stream",
     "text": [
      "Task 1/100: output is True, ground truth is True\n",
      "Task 2/100: output is True, ground truth is True\n",
      "Task 3/100: output is True, ground truth is True\n",
      "Task 4/100: output is False, ground truth is True\n",
      "Task 5/100: output is True, ground truth is True\n",
      "Task 6/100: output is False, ground truth is True\n",
      "Task 7/100: output is True, ground truth is True\n",
      "Task 8/100: output is False, ground truth is True\n",
      "Task 9/100: output is True, ground truth is True\n",
      "Task 10/100: output is True, ground truth is True\n",
      "Task 11/100: output is True, ground truth is True\n",
      "Task 12/100: output is True, ground truth is True\n",
      "Task 13/100: output is True, ground truth is True\n",
      "Task 14/100: output is True, ground truth is True\n",
      "Task 15/100: output is True, ground truth is True\n",
      "Task 16/100: output is True, ground truth is True\n",
      "Task 17/100: output is True, ground truth is True\n",
      "Task 18/100: output is False, ground truth is True\n",
      "Task 19/100: output is True, ground truth is True\n",
      "Task 20/100: output is True, ground truth is True\n",
      "Task 21/100: output is True, ground truth is True\n",
      "Task 22/100: output is True, ground truth is True\n",
      "Task 23/100: output is True, ground truth is True\n",
      "Task 24/100: output is True, ground truth is True\n",
      "Task 25/100: output is True, ground truth is True\n",
      "Task 26/100: output is False, ground truth is True\n",
      "Task 27/100: output is False, ground truth is True\n",
      "Task 28/100: output is False, ground truth is True\n",
      "Task 29/100: output is True, ground truth is True\n",
      "Task 30/100: output is True, ground truth is True\n",
      "Task 31/100: output is True, ground truth is True\n",
      "Task 32/100: output is True, ground truth is True\n",
      "Task 33/100: output is True, ground truth is True\n",
      "Task 34/100: output is True, ground truth is True\n",
      "Task 35/100: output is True, ground truth is True\n",
      "Task 36/100: output is False, ground truth is True\n",
      "Task 37/100: output is True, ground truth is True\n",
      "Task 38/100: output is True, ground truth is True\n",
      "Task 39/100: output is False, ground truth is True\n",
      "Task 40/100: output is True, ground truth is True\n",
      "Task 41/100: output is False, ground truth is True\n",
      "Task 42/100: output is True, ground truth is True\n",
      "Task 43/100: output is False, ground truth is True\n",
      "Task 44/100: output is True, ground truth is True\n",
      "Task 45/100: output is False, ground truth is True\n",
      "Task 46/100: output is True, ground truth is True\n",
      "Task 47/100: output is True, ground truth is True\n",
      "Task 48/100: output is False, ground truth is True\n",
      "Task 49/100: output is True, ground truth is True\n",
      "Task 50/100: output is False, ground truth is True\n",
      "Task 51/100: output is False, ground truth is False\n",
      "Task 52/100: output is False, ground truth is False\n",
      "Task 53/100: output is False, ground truth is False\n",
      "Task 54/100: output is False, ground truth is False\n",
      "Task 55/100: output is False, ground truth is False\n",
      "Task 56/100: output is False, ground truth is False\n",
      "Task 57/100: output is False, ground truth is False\n",
      "Task 58/100: output is False, ground truth is False\n",
      "Task 59/100: output is False, ground truth is False\n",
      "Task 60/100: output is True, ground truth is False\n",
      "Task 61/100: output is True, ground truth is False\n",
      "Task 62/100: output is False, ground truth is False\n",
      "Task 63/100: output is True, ground truth is False\n",
      "Task 64/100: output is False, ground truth is False\n",
      "Task 65/100: output is True, ground truth is False\n",
      "Task 66/100: output is False, ground truth is False\n",
      "Task 67/100: output is False, ground truth is False\n",
      "Task 68/100: output is True, ground truth is False\n",
      "Task 69/100: output is False, ground truth is False\n",
      "Task 70/100: output is False, ground truth is False\n",
      "Task 71/100: output is True, ground truth is False\n",
      "Task 72/100: output is False, ground truth is False\n",
      "Task 73/100: output is False, ground truth is False\n",
      "Task 74/100: output is True, ground truth is False\n",
      "Task 75/100: output is False, ground truth is False\n",
      "Task 76/100: output is True, ground truth is False\n",
      "Task 77/100: output is False, ground truth is False\n",
      "Task 78/100: output is False, ground truth is False\n",
      "Task 79/100: output is False, ground truth is False\n",
      "Task 80/100: output is False, ground truth is False\n",
      "Task 81/100: output is False, ground truth is False\n",
      "Task 82/100: output is True, ground truth is False\n",
      "Task 83/100: output is False, ground truth is False\n",
      "Task 84/100: output is True, ground truth is False\n",
      "Task 85/100: output is False, ground truth is False\n",
      "Task 86/100: output is False, ground truth is False\n",
      "Task 87/100: output is False, ground truth is False\n",
      "Task 88/100: output is False, ground truth is False\n",
      "Task 89/100: output is False, ground truth is False\n",
      "Task 90/100: output is False, ground truth is False\n",
      "Task 91/100: output is False, ground truth is False\n",
      "Task 92/100: output is False, ground truth is False\n",
      "Task 93/100: output is False, ground truth is False\n",
      "Task 94/100: output is True, ground truth is False\n",
      "Task 95/100: output is False, ground truth is False\n",
      "Task 96/100: output is False, ground truth is False\n",
      "Task 97/100: output is True, ground truth is False\n",
      "Task 98/100: output is True, ground truth is False\n",
      "Task 99/100: output is False, ground truth is False\n",
      "Task 100/100: output is False, ground truth is False\n"
     ]
    }
   ],
   "execution_count": 7
  },
  {
   "metadata": {
    "ExecuteTime": {
     "end_time": "2025-03-14T17:18:47.464849Z",
     "start_time": "2025-03-14T17:18:47.460188Z"
    }
   },
   "cell_type": "code",
   "source": "print(agent_fixed_res)",
   "id": "47a2bc770a3e802",
   "outputs": [
    {
     "name": "stdout",
     "output_type": "stream",
     "text": [
      "(36, 37, 13, 14)\n"
     ]
    }
   ],
   "execution_count": 8
  },
  {
   "metadata": {
    "ExecuteTime": {
     "end_time": "2025-03-14T17:27:05.425546Z",
     "start_time": "2025-03-14T17:27:05.420181Z"
    }
   },
   "cell_type": "code",
   "source": "print(statistic(*agent_fixed_res))",
   "id": "9cb2881799d501e1",
   "outputs": [
    {
     "name": "stdout",
     "output_type": "stream",
     "text": [
      "(0.73, 0.7346938775510204, 0.72, 0.7272727272727272)\n"
     ]
    }
   ],
   "execution_count": 16
  },
  {
   "metadata": {
    "ExecuteTime": {
     "end_time": "2025-03-14T17:26:18.157711Z",
     "start_time": "2025-03-14T17:18:47.466281Z"
    }
   },
   "cell_type": "code",
   "source": [
    "from AgentNet.AgentNet_all import AgentNet_all\n",
    "agent_all = AgentNet_all(llm, tools)\n",
    "agent_all_res = test(agent_all, tasks_agent_can_complete, tasks_agent_cannot_complete)"
   ],
   "id": "8f67ade1a78e5f6a",
   "outputs": [
    {
     "name": "stdout",
     "output_type": "stream",
     "text": [
      "Task 1/100: output is True, ground truth is True\n",
      "Task 2/100: output is True, ground truth is True\n",
      "Task 3/100: output is True, ground truth is True\n",
      "Task 4/100: output is True, ground truth is True\n",
      "Task 5/100: output is True, ground truth is True\n",
      "Task 6/100: output is False, ground truth is True\n",
      "Task 7/100: output is True, ground truth is True\n",
      "Task 8/100: output is True, ground truth is True\n",
      "Task 9/100: output is True, ground truth is True\n",
      "Task 10/100: output is True, ground truth is True\n",
      "Task 11/100: output is True, ground truth is True\n",
      "Task 12/100: output is True, ground truth is True\n",
      "Task 13/100: output is True, ground truth is True\n",
      "Task 14/100: output is True, ground truth is True\n",
      "Task 15/100: output is True, ground truth is True\n",
      "Task 16/100: output is True, ground truth is True\n",
      "Task 17/100: output is True, ground truth is True\n",
      "Task 18/100: output is True, ground truth is True\n",
      "Task 19/100: output is True, ground truth is True\n",
      "Task 20/100: output is True, ground truth is True\n",
      "Task 21/100: output is True, ground truth is True\n",
      "Task 22/100: output is True, ground truth is True\n",
      "Task 23/100: output is True, ground truth is True\n",
      "Task 24/100: output is True, ground truth is True\n",
      "Task 25/100: output is True, ground truth is True\n",
      "Task 26/100: output is True, ground truth is True\n",
      "Task 27/100: output is True, ground truth is True\n",
      "Task 28/100: output is True, ground truth is True\n",
      "Task 29/100: output is True, ground truth is True\n",
      "Task 30/100: output is True, ground truth is True\n",
      "Task 31/100: output is True, ground truth is True\n",
      "Task 32/100: output is True, ground truth is True\n",
      "Task 33/100: output is False, ground truth is True\n",
      "Task 34/100: output is True, ground truth is True\n",
      "Task 35/100: output is False, ground truth is True\n",
      "Task 36/100: output is True, ground truth is True\n",
      "Task 37/100: output is True, ground truth is True\n",
      "Task 38/100: output is False, ground truth is True\n",
      "Task 39/100: output is True, ground truth is True\n",
      "Task 40/100: output is True, ground truth is True\n",
      "Task 41/100: output is False, ground truth is True\n",
      "Task 42/100: output is True, ground truth is True\n",
      "Task 43/100: output is True, ground truth is True\n",
      "Task 44/100: output is True, ground truth is True\n",
      "Task 45/100: output is False, ground truth is True\n",
      "Task 46/100: output is True, ground truth is True\n",
      "Task 47/100: output is True, ground truth is True\n",
      "Task 48/100: output is True, ground truth is True\n",
      "Task 49/100: output is True, ground truth is True\n",
      "Task 50/100: output is True, ground truth is True\n",
      "Task 51/100: output is False, ground truth is False\n",
      "Task 52/100: output is False, ground truth is False\n",
      "Task 53/100: output is False, ground truth is False\n",
      "Task 54/100: output is False, ground truth is False\n",
      "Task 55/100: output is False, ground truth is False\n",
      "Task 56/100: output is False, ground truth is False\n",
      "Task 57/100: output is True, ground truth is False\n",
      "Task 58/100: output is False, ground truth is False\n",
      "Task 59/100: output is False, ground truth is False\n",
      "Task 60/100: output is True, ground truth is False\n",
      "Task 61/100: output is True, ground truth is False\n",
      "Task 62/100: output is True, ground truth is False\n",
      "Task 63/100: output is False, ground truth is False\n",
      "Task 64/100: output is True, ground truth is False\n",
      "Task 65/100: output is True, ground truth is False\n",
      "Task 66/100: output is False, ground truth is False\n",
      "Task 67/100: output is False, ground truth is False\n",
      "Task 68/100: output is True, ground truth is False\n",
      "Task 69/100: output is False, ground truth is False\n",
      "Task 70/100: output is False, ground truth is False\n",
      "Task 71/100: output is False, ground truth is False\n",
      "Task 72/100: output is False, ground truth is False\n",
      "Task 73/100: output is False, ground truth is False\n",
      "Task 74/100: output is True, ground truth is False\n",
      "Task 75/100: output is False, ground truth is False\n",
      "Task 76/100: output is True, ground truth is False\n",
      "Task 77/100: output is False, ground truth is False\n",
      "Task 78/100: output is False, ground truth is False\n",
      "Task 79/100: output is False, ground truth is False\n",
      "Task 80/100: output is False, ground truth is False\n",
      "Task 81/100: output is False, ground truth is False\n",
      "Task 82/100: output is True, ground truth is False\n",
      "Task 83/100: output is False, ground truth is False\n",
      "Task 84/100: output is True, ground truth is False\n",
      "Task 85/100: output is False, ground truth is False\n",
      "Task 86/100: output is False, ground truth is False\n",
      "Task 87/100: output is False, ground truth is False\n",
      "Task 88/100: output is False, ground truth is False\n",
      "Task 89/100: output is False, ground truth is False\n",
      "Task 90/100: output is False, ground truth is False\n",
      "Task 91/100: output is False, ground truth is False\n",
      "Task 92/100: output is False, ground truth is False\n",
      "Task 93/100: output is False, ground truth is False\n",
      "Task 94/100: output is True, ground truth is False\n",
      "Task 95/100: output is False, ground truth is False\n",
      "Task 96/100: output is False, ground truth is False\n",
      "Task 97/100: output is True, ground truth is False\n",
      "Task 98/100: output is True, ground truth is False\n",
      "Task 99/100: output is True, ground truth is False\n",
      "Task 100/100: output is False, ground truth is False\n"
     ]
    }
   ],
   "execution_count": 9
  },
  {
   "metadata": {
    "ExecuteTime": {
     "end_time": "2025-03-14T17:26:18.162288Z",
     "start_time": "2025-03-14T17:26:18.158214Z"
    }
   },
   "cell_type": "code",
   "source": "print(agent_all_res)",
   "id": "ce784afedf007c5a",
   "outputs": [
    {
     "name": "stdout",
     "output_type": "stream",
     "text": [
      "(44, 35, 15, 6)\n"
     ]
    }
   ],
   "execution_count": 10
  },
  {
   "metadata": {
    "ExecuteTime": {
     "end_time": "2025-03-14T17:27:08.567455Z",
     "start_time": "2025-03-14T17:27:08.564051Z"
    }
   },
   "cell_type": "code",
   "source": "print(statistic(*agent_all_res))",
   "id": "32b90c01ee2966df",
   "outputs": [
    {
     "name": "stdout",
     "output_type": "stream",
     "text": [
      "(0.79, 0.7457627118644068, 0.88, 0.8073394495412843)\n"
     ]
    }
   ],
   "execution_count": 17
  },
  {
   "metadata": {
    "ExecuteTime": {
     "end_time": "2025-03-14T17:26:54.886557Z",
     "start_time": "2025-03-14T17:26:18.162288Z"
    }
   },
   "cell_type": "code",
   "source": [
    "from AgentNet.AgentNet_single import AgentNet_single\n",
    "\n",
    "agent_single = AgentNet_single(llm, tools)\n",
    "agent_single_res = test(agent_single, tasks_agent_can_complete, tasks_agent_cannot_complete)"
   ],
   "id": "cb83a591d3ac1d23",
   "outputs": [
    {
     "name": "stdout",
     "output_type": "stream",
     "text": [
      "Task 1/100: output is True, ground truth is True\n",
      "Task 2/100: output is True, ground truth is True\n",
      "Task 3/100: output is True, ground truth is True\n",
      "Task 4/100: output is True, ground truth is True\n",
      "Task 5/100: output is True, ground truth is True\n",
      "Task 6/100: output is True, ground truth is True\n",
      "Task 7/100: output is True, ground truth is True\n",
      "Task 8/100: output is True, ground truth is True\n",
      "Task 9/100: output is True, ground truth is True\n",
      "Task 10/100: output is True, ground truth is True\n",
      "Task 11/100: output is True, ground truth is True\n",
      "Task 12/100: output is True, ground truth is True\n",
      "Task 13/100: output is True, ground truth is True\n",
      "Task 14/100: output is True, ground truth is True\n",
      "Task 15/100: output is True, ground truth is True\n",
      "Task 16/100: output is True, ground truth is True\n",
      "Task 17/100: output is True, ground truth is True\n",
      "Task 18/100: output is True, ground truth is True\n",
      "Task 19/100: output is True, ground truth is True\n",
      "Task 20/100: output is True, ground truth is True\n",
      "Task 21/100: output is True, ground truth is True\n",
      "Task 22/100: output is True, ground truth is True\n",
      "Task 23/100: output is True, ground truth is True\n",
      "Task 24/100: output is True, ground truth is True\n",
      "Task 25/100: output is True, ground truth is True\n",
      "Task 26/100: output is True, ground truth is True\n",
      "Task 27/100: output is True, ground truth is True\n",
      "Task 28/100: output is True, ground truth is True\n",
      "Task 29/100: output is True, ground truth is True\n",
      "Task 30/100: output is True, ground truth is True\n",
      "Task 31/100: output is True, ground truth is True\n",
      "Task 32/100: output is True, ground truth is True\n",
      "Task 33/100: output is True, ground truth is True\n",
      "Task 34/100: output is True, ground truth is True\n",
      "Task 35/100: output is True, ground truth is True\n",
      "Task 36/100: output is True, ground truth is True\n",
      "Task 37/100: output is True, ground truth is True\n",
      "Task 38/100: output is True, ground truth is True\n",
      "Task 39/100: output is True, ground truth is True\n",
      "Task 40/100: output is True, ground truth is True\n",
      "Task 41/100: output is True, ground truth is True\n",
      "Task 42/100: output is True, ground truth is True\n",
      "Task 43/100: output is True, ground truth is True\n",
      "Task 44/100: output is True, ground truth is True\n",
      "Task 45/100: output is True, ground truth is True\n",
      "Task 46/100: output is True, ground truth is True\n",
      "Task 47/100: output is True, ground truth is True\n",
      "Task 48/100: output is True, ground truth is True\n",
      "Task 49/100: output is True, ground truth is True\n",
      "Task 50/100: output is True, ground truth is True\n",
      "Task 51/100: output is True, ground truth is False\n",
      "Task 52/100: output is True, ground truth is False\n",
      "Task 53/100: output is True, ground truth is False\n",
      "Task 54/100: output is True, ground truth is False\n",
      "Task 55/100: output is True, ground truth is False\n",
      "Task 56/100: output is True, ground truth is False\n",
      "Task 57/100: output is True, ground truth is False\n",
      "Task 58/100: output is True, ground truth is False\n",
      "Task 59/100: output is True, ground truth is False\n",
      "Task 60/100: output is True, ground truth is False\n",
      "Task 61/100: output is True, ground truth is False\n",
      "Task 62/100: output is True, ground truth is False\n",
      "Task 63/100: output is True, ground truth is False\n",
      "Task 64/100: output is True, ground truth is False\n",
      "Task 65/100: output is True, ground truth is False\n",
      "Task 66/100: output is True, ground truth is False\n",
      "Task 67/100: output is True, ground truth is False\n",
      "Task 68/100: output is True, ground truth is False\n",
      "Task 69/100: output is True, ground truth is False\n",
      "Task 70/100: output is True, ground truth is False\n",
      "Task 71/100: output is True, ground truth is False\n",
      "Task 72/100: output is True, ground truth is False\n",
      "Task 73/100: output is True, ground truth is False\n",
      "Task 74/100: output is True, ground truth is False\n",
      "Task 75/100: output is True, ground truth is False\n",
      "Task 76/100: output is True, ground truth is False\n",
      "Task 77/100: output is True, ground truth is False\n",
      "Task 78/100: output is True, ground truth is False\n",
      "Task 79/100: output is True, ground truth is False\n",
      "Task 80/100: output is True, ground truth is False\n",
      "Task 81/100: output is True, ground truth is False\n",
      "Task 82/100: output is True, ground truth is False\n",
      "Task 83/100: output is True, ground truth is False\n",
      "Task 84/100: output is True, ground truth is False\n",
      "Task 85/100: output is True, ground truth is False\n",
      "Task 86/100: output is True, ground truth is False\n",
      "Task 87/100: output is True, ground truth is False\n",
      "Task 88/100: output is True, ground truth is False\n",
      "Task 89/100: output is True, ground truth is False\n",
      "Task 90/100: output is True, ground truth is False\n",
      "Task 91/100: output is True, ground truth is False\n",
      "Task 92/100: output is True, ground truth is False\n",
      "Task 93/100: output is True, ground truth is False\n",
      "Task 94/100: output is True, ground truth is False\n",
      "Task 95/100: output is True, ground truth is False\n",
      "Task 96/100: output is True, ground truth is False\n",
      "Task 97/100: output is True, ground truth is False\n",
      "Task 98/100: output is True, ground truth is False\n",
      "Task 99/100: output is True, ground truth is False\n",
      "Task 100/100: output is True, ground truth is False\n"
     ]
    }
   ],
   "execution_count": 11
  },
  {
   "metadata": {
    "ExecuteTime": {
     "end_time": "2025-03-14T17:26:54.891346Z",
     "start_time": "2025-03-14T17:26:54.887078Z"
    }
   },
   "cell_type": "code",
   "source": "print(agent_single_res)",
   "id": "b9f30e4c006f39a9",
   "outputs": [
    {
     "name": "stdout",
     "output_type": "stream",
     "text": [
      "(50, 0, 50, 0)\n"
     ]
    }
   ],
   "execution_count": 12
  },
  {
   "metadata": {
    "ExecuteTime": {
     "end_time": "2025-03-14T17:27:11.504075Z",
     "start_time": "2025-03-14T17:27:11.500911Z"
    }
   },
   "cell_type": "code",
   "source": "print(statistic(*agent_single_res))",
   "id": "c21b31ad9ee36bcc",
   "outputs": [
    {
     "name": "stdout",
     "output_type": "stream",
     "text": [
      "(0.5, 0.5, 1.0, 0.6666666666666666)\n"
     ]
    }
   ],
   "execution_count": 18
  },
  {
   "metadata": {},
   "cell_type": "code",
   "outputs": [],
   "execution_count": null,
   "source": "",
   "id": "89524e523227eafb"
  },
  {
   "metadata": {},
   "cell_type": "code",
   "outputs": [],
   "execution_count": null,
   "source": "",
   "id": "ff30ad1e42382468"
  }
 ],
 "metadata": {
  "kernelspec": {
   "display_name": "Python 3",
   "language": "python",
   "name": "python3"
  },
  "language_info": {
   "codemirror_mode": {
    "name": "ipython",
    "version": 2
   },
   "file_extension": ".py",
   "mimetype": "text/x-python",
   "name": "python",
   "nbconvert_exporter": "python",
   "pygments_lexer": "ipython2",
   "version": "2.7.6"
  }
 },
 "nbformat": 4,
 "nbformat_minor": 5
}
